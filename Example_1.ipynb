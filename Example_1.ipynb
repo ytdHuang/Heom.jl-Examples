{
 "cells": [
  {
   "cell_type": "markdown",
   "id": "5a2b1faa-499b-40e7-b1e5-0abd93c3007b",
   "metadata": {},
   "source": [
    "# Import Packages"
   ]
  },
  {
   "cell_type": "code",
   "execution_count": null,
   "id": "600dc67a-6273-4e73-8c34-038b69ab3cbe",
   "metadata": {},
   "outputs": [],
   "source": [
    "using Heom\n",
    "using LinearAlgebra\n",
    "using QuantumOptics # optional (can construct the operators with standard matrix)"
   ]
  },
  {
   "cell_type": "code",
   "execution_count": null,
   "id": "0fad0f1e-5055-41b2-9e17-447d0fb40006",
   "metadata": {},
   "outputs": [],
   "source": [
    "Heom.versioninfo()"
   ]
  },
  {
   "cell_type": "markdown",
   "id": "c524db28-0765-4467-8486-6655fcc1f1ee",
   "metadata": {},
   "source": [
    "# Parameters"
   ]
  },
  {
   "cell_type": "code",
   "execution_count": null,
   "id": "5c5c27f9-0124-4d68-a11e-aabc6bcdd0ed",
   "metadata": {},
   "outputs": [],
   "source": [
    "ϵ  = -5  # energy of electron\n",
    "U  = 10  # repulsion energy\n",
    "Γ  = 1   # coupling strength\n",
    "Wα = 10  # band-width\n",
    "Φ  = 4   # bias voltage\n",
    "T  = 0.5 # temperature\n",
    "Nα = 7   # number of exponent\n",
    "n_max = 4    # truncation of the fermionic hierarchy\n",
    "Ith   = 1e-7 # importance threshold\n",
    "\n",
    "μL =   Φ / 2 # chemical potential of  left-hand side fermionic reservoir\n",
    "μR = - Φ / 2 # chemical potential of right-hand side fermionic reservoir"
   ]
  },
  {
   "cell_type": "markdown",
   "id": "22c5033b-465d-4fcc-a0ba-eac2bb559b3d",
   "metadata": {},
   "source": [
    "# Hamiltonian and Coupling operators"
   ]
  },
  {
   "cell_type": "code",
   "execution_count": null,
   "id": "a1b66477-7d0d-4422-9e0b-b33915e5a0fd",
   "metadata": {},
   "outputs": [],
   "source": [
    "b_spin = SpinBasis(1//2)\n",
    "σz = sigmaz(b_spin)\n",
    "σm = sigmap(b_spin)\n",
    "I2 = identityoperator(b_spin)\n",
    "\n",
    "# spin-up (-down) annihilation operators\n",
    "d_up =  σm ⊗ I2\n",
    "d_dn = -σz ⊗ σm\n",
    "\n",
    "Hs = ϵ * (d_up' * d_up + d_dn' * d_dn) + U * d_up' * d_up * d_dn' * d_dn"
   ]
  },
  {
   "cell_type": "markdown",
   "id": "1d49fafd-64bd-4ff9-9946-c56d802b5a03",
   "metadata": {},
   "source": [
    "# Construct Bath objects"
   ]
  },
  {
   "cell_type": "code",
   "execution_count": null,
   "id": "dcaba3b9-e0b1-4c24-9464-6d085546bebf",
   "metadata": {},
   "outputs": [],
   "source": [
    "# u and d represents spin-up and spin-down, respectively\n",
    "# L and R represents the left- and right-hand side fermionic reservoir, respectively\n",
    "fuL = Fermion_Lorentz_Pade(d_up.data, Γ, μL, Wα, T, Nα - 1)\n",
    "fdL = Fermion_Lorentz_Pade(d_dn.data, Γ, μL, Wα, T, Nα - 1)\n",
    "fuR = Fermion_Lorentz_Pade(d_up.data, Γ, μR, Wα, T, Nα - 1)\n",
    "fdR = Fermion_Lorentz_Pade(d_dn.data, Γ, μR, Wα, T, Nα - 1)\n",
    "\n",
    "# collect all the fermionic bath objects into a list\n",
    "Fbath = [fuL, fdL, fuR, fdR];"
   ]
  },
  {
   "cell_type": "markdown",
   "id": "1e330466-e181-47f9-bf00-a7397bd25baf",
   "metadata": {},
   "source": [
    "# Construct HEOMLS matrix"
   ]
  },
  {
   "cell_type": "code",
   "execution_count": null,
   "id": "764992cb-bea5-43a7-b3a8-4c675df89aff",
   "metadata": {},
   "outputs": [],
   "source": [
    "# construct the even-parity HEOMLS (for solving stationary states of ADOs)\n",
    "L_even = M_Fermion(Hs.data, n_max, Fbath; threshold=Ith)\n",
    "\n",
    "# construct the odd-parity HEOMLS (for calculating spectrum (density of states) of fermionic system)\n",
    "L_odd  = M_Fermion(Hs.data, n_max, Fbath, :odd; threshold=Ith)"
   ]
  },
  {
   "cell_type": "markdown",
   "id": "4e7f25c5-fc04-4d35-af2d-e7f0dcf69a5c",
   "metadata": {},
   "source": [
    "# Solving stationary states for all ADOs"
   ]
  },
  {
   "cell_type": "code",
   "execution_count": null,
   "id": "37784383-aeee-4c84-82d8-198f08f6c153",
   "metadata": {},
   "outputs": [],
   "source": [
    "ados = SteadyState(L_even)"
   ]
  },
  {
   "cell_type": "markdown",
   "id": "741e27c1-a15c-4ad4-9747-f7448470f3e7",
   "metadata": {},
   "source": [
    "# Calculate density of states under stationary states"
   ]
  },
  {
   "cell_type": "code",
   "execution_count": null,
   "id": "a183aa76-d200-4894-823f-0de366daa68e",
   "metadata": {},
   "outputs": [],
   "source": [
    "ωlist = [-20, 0, 20]\n",
    "Aω = spectrum(L_odd, ados, d_up.data, ωlist)"
   ]
  },
  {
   "cell_type": "markdown",
   "id": "68f15436-9528-491a-b648-15b0ed2dc963",
   "metadata": {},
   "source": [
    "# Calculate electronic current with 1st-level-fermionic ADOs"
   ]
  },
  {
   "cell_type": "code",
   "execution_count": null,
   "id": "1d8cb8cf-7595-4286-9fe7-8e1f45ccdc63",
   "metadata": {},
   "outputs": [],
   "source": [
    "# calculate electronic current for a given ADOs\n",
    "function Current(ados, M::M_Fermion)\n",
    "    \n",
    "    # the hierarchy dictionary\n",
    "    HDict = M.hierarchy\n",
    "\n",
    "    # we need all the indices of ADOs for the first level: [1]\n",
    "    idx_list = HDict.lvl2idx[1]\n",
    "    \n",
    "    Ic = 0.0im # electronic current\n",
    "    for idx in idx_list\n",
    "        ρ1 = ados[idx]  # one of the 1st-level ADO\n",
    "\n",
    "        # find all the corresponding bath index (α) and exponent term index (k)\n",
    "        nvec = HDict.idx2nvec[idx]\n",
    "        for (α, k, _) in getIndexEnsemble(nvec, HDict.bathPtr)\n",
    "            \n",
    "            # for left-hand side fermionic reservoir\n",
    "            # α == 1 (spin-up), α == 2 (spin_down)\n",
    "            if (α == 1) || (α == 2)\n",
    "                exponent = M.bath[α][k]\n",
    "                if exponent.types == \"fA\"     # fermion-absorption\n",
    "                    Ic += tr(exponent.op' * ρ1)\n",
    "                elseif exponent.types == \"fE\" # fermion-emission\n",
    "                    Ic -= tr(exponent.op' * ρ1)\n",
    "                end\n",
    "                break\n",
    "            end\n",
    "        end\n",
    "    end\n",
    "    \n",
    "    # change unit to mA\n",
    "    e = 1.60218e-19\n",
    "    ħ = 6.62607015e−34 / (2 * π)\n",
    "    eV_to_Joule = 1.60218e-19  # unit conversion\n",
    "    \n",
    "    # (e / ħ) * I  [unit: mA] \n",
    "    return (e / ħ) * real(1im * Ic) * eV_to_Joule\n",
    "end"
   ]
  },
  {
   "cell_type": "code",
   "execution_count": null,
   "id": "f6f2f550-1eae-4706-a1f2-bb03547e59d8",
   "metadata": {},
   "outputs": [],
   "source": [
    "Current(ados, L_even)"
   ]
  }
 ],
 "metadata": {
  "kernelspec": {
   "display_name": "Julia 1.8.0",
   "language": "julia",
   "name": "julia"
  },
  "language_info": {
   "file_extension": ".jl",
   "mimetype": "application/julia",
   "name": "julia",
   "version": "1.8.0"
  }
 },
 "nbformat": 4,
 "nbformat_minor": 5
}
