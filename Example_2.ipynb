{
 "cells": [
  {
   "cell_type": "markdown",
   "id": "5a2b1faa-499b-40e7-b1e5-0abd93c3007b",
   "metadata": {},
   "source": [
    "# Import Packages"
   ]
  },
  {
   "cell_type": "code",
   "execution_count": null,
   "id": "600dc67a-6273-4e73-8c34-038b69ab3cbe",
   "metadata": {},
   "outputs": [],
   "source": [
    "using Heom\n",
    "using LinearAlgebra\n",
    "using QuantumOptics # optional (can construct the operators with standard matrix)"
   ]
  },
  {
   "cell_type": "code",
   "execution_count": null,
   "id": "16e1d942-f61b-4ba2-bf1a-8c5f904d3714",
   "metadata": {},
   "outputs": [],
   "source": [
    "Heom.versioninfo()"
   ]
  },
  {
   "cell_type": "markdown",
   "id": "c524db28-0765-4467-8486-6655fcc1f1ee",
   "metadata": {},
   "source": [
    "# Parameters"
   ]
  },
  {
   "cell_type": "code",
   "execution_count": null,
   "id": "5c5c27f9-0124-4d68-a11e-aabc6bcdd0ed",
   "metadata": {},
   "outputs": [],
   "source": [
    "ϵ  = -3   # energy of electron\n",
    "ωc = 1    # frequency of single-mode cavity\n",
    "g  = 0.5  # electron-cavity coupling strength\n",
    "Γ  = 1    # electron-fermionic reservoir coupling strength \n",
    "Δ  = 0.01 #   cavity-bosonic   reservoir coupling strength \n",
    "Wβ = 0.2  # band-width of bosonic reservoir\n",
    "Wα = 10   # band-width of fermionic reservoir\n",
    "Φ  = 6    # bias voltage\n",
    "T  = 0.5  # temperature\n",
    "Np = 6    # truncation of the cavity photon number\n",
    "Nβ = 5    # number of exponent for bosonic   reservoir\n",
    "Nα = 7    # number of exponent for fermionic reservoir\n",
    "m_max = 4    # truncation of the bosonic   hierarchy\n",
    "n_max = 3    # truncation of the fermionic hierarchy\n",
    "Ith   = 1e-6 # importance threshold\n",
    "\n",
    "μL =   Φ / 2 # chemical potential of  left-hand side fermionic reservoir\n",
    "μR = - Φ / 2 # chemical potential of right-hand side fermionic reservoir"
   ]
  },
  {
   "cell_type": "markdown",
   "id": "22c5033b-465d-4fcc-a0ba-eac2bb559b3d",
   "metadata": {},
   "source": [
    "# Hamiltonian and Coupling operators"
   ]
  },
  {
   "cell_type": "code",
   "execution_count": null,
   "id": "a1b66477-7d0d-4422-9e0b-b33915e5a0fd",
   "metadata": {},
   "outputs": [],
   "source": [
    "b_spin = SpinBasis(1//2)\n",
    "b_phot = FockBasis(Np)\n",
    "\n",
    "σm = sigmap(b_spin)\n",
    "Is = identityoperator(b_spin)\n",
    "Ip = identityoperator(b_phot)\n",
    "\n",
    "# photon / electron annihilation operators\n",
    "a = destroy(b_phot) ⊗ Is\n",
    "d = Ip              ⊗ σm\n",
    "\n",
    "He = ϵ  * d' * d\n",
    "Hc = ωc * a' * a\n",
    "Hs = Hc + He + g * d' * d * (a + a');"
   ]
  },
  {
   "cell_type": "markdown",
   "id": "1d49fafd-64bd-4ff9-9946-c56d802b5a03",
   "metadata": {},
   "source": [
    "# Construct Bath objects"
   ]
  },
  {
   "cell_type": "code",
   "execution_count": null,
   "id": "dcaba3b9-e0b1-4c24-9464-6d085546bebf",
   "metadata": {},
   "outputs": [],
   "source": [
    "# L and R represents the left- and right-hand side fermionic reservoir, respectively\n",
    "fL = Fermion_Lorentz_Pade(d.data, Γ, μL, Wα, T, Nα - 1)\n",
    "fR = Fermion_Lorentz_Pade(d.data, Γ, μR, Wα, T, Nα - 1)\n",
    "\n",
    "# collect all the fermionic bath objects into a list\n",
    "Fbath = [fL, fR];\n",
    "\n",
    "# boson baths\n",
    "Bbath = Boson_DrudeLorentz_Pade((a + a').data, Δ, Wβ, T, Nβ - 1);"
   ]
  },
  {
   "cell_type": "markdown",
   "id": "1e330466-e181-47f9-bf00-a7397bd25baf",
   "metadata": {},
   "source": [
    "# Construct HEOMLS matrix"
   ]
  },
  {
   "cell_type": "code",
   "execution_count": null,
   "id": "764992cb-bea5-43a7-b3a8-4c675df89aff",
   "metadata": {
    "tags": []
   },
   "outputs": [],
   "source": [
    "# construct the even-parity HEOMLS for \n",
    "## 1. solving stationary states of ADOs\n",
    "## 2. calculating spectrum (power spectral density) of bosonic system\n",
    "L_even = M_Boson_Fermion(Hs.data, m_max, n_max, Bbath, Fbath; threshold=Ith)\n",
    "\n",
    "# construct the odd-parity HEOMLS for calculating spectrum (density of states) of fermionic system\n",
    "L_odd  = M_Boson_Fermion(Hs.data, m_max, n_max, Bbath, Fbath, :odd; threshold=Ith)"
   ]
  },
  {
   "cell_type": "markdown",
   "id": "18180e5c-2bbc-4ca9-bc6a-c1e641acf372",
   "metadata": {},
   "source": [
    "# Construct HEOMLS matrix (with Master Equation approach)"
   ]
  },
  {
   "cell_type": "code",
   "execution_count": null,
   "id": "03a8fc4e-7f28-4034-8a85-f0f36a58b145",
   "metadata": {},
   "outputs": [],
   "source": [
    "# Drude-Lorentz spectral density\n",
    "Jβ(ω) = (2 * Δ * Wβ * ω) / (ω ^ 2 + Wβ ^ 2)\n",
    "\n",
    "# Bose-Einstein distribution\n",
    "nβ(ω) = (exp(ω / T) - 1) ^ (-1)\n",
    "\n",
    "\n",
    "# the list of jump operators\n",
    "Jop = [\n",
    "    √(2 * π * Jβ(ωc) * (nβ(ωc) + 1)) * (a).data,\n",
    "    √(2 * π * Jβ(ωc) *  nβ(ωc)     ) * (a').data\n",
    "]\n",
    "\n",
    "# remove the bosonic hierarchy and add Lindbladian to the HEOMLS\n",
    "L_ME = M_Fermion(Hs.data, n_max, Fbath)\n",
    "L_ME = addBosonDissipator(L_ME, Jop)"
   ]
  },
  {
   "cell_type": "markdown",
   "id": "4e7f25c5-fc04-4d35-af2d-e7f0dcf69a5c",
   "metadata": {},
   "source": [
    "# Solving stationary states for all ADOs"
   ]
  },
  {
   "cell_type": "code",
   "execution_count": null,
   "id": "37784383-aeee-4c84-82d8-198f08f6c153",
   "metadata": {},
   "outputs": [],
   "source": [
    "ados = SteadyState(L_even)"
   ]
  },
  {
   "cell_type": "markdown",
   "id": "741e27c1-a15c-4ad4-9747-f7448470f3e7",
   "metadata": {},
   "source": [
    "# Calculate density of states under stationary states"
   ]
  },
  {
   "cell_type": "code",
   "execution_count": null,
   "id": "a183aa76-d200-4894-823f-0de366daa68e",
   "metadata": {},
   "outputs": [],
   "source": [
    "ωlist = [-6, -3, 0]\n",
    "Aω = spectrum(L_odd, ados, d.data, ωlist)"
   ]
  },
  {
   "cell_type": "markdown",
   "id": "b6776587-dfec-4c33-9da0-0d4dd2fed6c1",
   "metadata": {},
   "source": [
    "# Calculate power spectral density under stationary states"
   ]
  },
  {
   "cell_type": "code",
   "execution_count": null,
   "id": "ad2ccfab-9fe7-423d-9649-0d4814f6405d",
   "metadata": {},
   "outputs": [],
   "source": [
    "ωlist = [1, 2, 3]\n",
    "Sω = spectrum(L_even, ados, a.data, ωlist)"
   ]
  },
  {
   "cell_type": "markdown",
   "id": "68f15436-9528-491a-b648-15b0ed2dc963",
   "metadata": {},
   "source": [
    "# Calculate electronic current with 1st-level-fermionic ADOs"
   ]
  },
  {
   "cell_type": "code",
   "execution_count": null,
   "id": "1d8cb8cf-7595-4286-9fe7-8e1f45ccdc63",
   "metadata": {},
   "outputs": [],
   "source": [
    "# calculate electronic current for a given ADOs\n",
    "function Current(ados, M::M_Boson_Fermion)\n",
    "    \n",
    "    # the hierarchy dictionary\n",
    "    HDict = M.hierarchy\n",
    "\n",
    "    # we need all the indices of ADOs for the first level: [1]\n",
    "    idx_list = HDict.Flvl2idx[1]\n",
    "    \n",
    "    Ic = 0.0im # electronic current\n",
    "    for idx in idx_list\n",
    "        ρ1 = ados[idx]  # one of the 1st-level ADO\n",
    "\n",
    "        # with bosonic level = 0\n",
    "        # find all the corresponding fermionic bath index (α) and exponent term index (k)\n",
    "        nvec_b, nvec_f = HDict.idx2nvec[idx]\n",
    "        if nvec_b.level == 0\n",
    "            for (α, k, _) in getIndexEnsemble(nvec_f, HDict.fermionPtr)\n",
    "\n",
    "                # α == 1 (left-hand side fermionic reservoir)\n",
    "                if α == 1\n",
    "                    exponent = M.Fbath[α][k]\n",
    "                    if exponent.types == \"fA\"     # fermion-absorption\n",
    "                        Ic += tr(exponent.op' * ρ1)\n",
    "                    elseif exponent.types == \"fE\" # fermion-emission\n",
    "                        Ic -= tr(exponent.op' * ρ1)\n",
    "                    end\n",
    "                    break\n",
    "                end\n",
    "            end\n",
    "        end\n",
    "    end\n",
    "    \n",
    "    # change unit to mA\n",
    "    e = 1.60218e-19\n",
    "    ħ = 6.62607015e−34 / (2 * π)\n",
    "    eV_to_Joule = 1.60218e-19  # unit conversion\n",
    "    \n",
    "    # (e / ħ) * I  [unit: mA] \n",
    "    return (e / ħ) * real(1im * Ic) * eV_to_Joule\n",
    "end"
   ]
  },
  {
   "cell_type": "code",
   "execution_count": null,
   "id": "f6f2f550-1eae-4706-a1f2-bb03547e59d8",
   "metadata": {},
   "outputs": [],
   "source": [
    "Current(ados, L_even)"
   ]
  },
  {
   "cell_type": "code",
   "execution_count": null,
   "id": "352de0c1-25b6-4cae-9a33-721c25773ea2",
   "metadata": {},
   "outputs": [],
   "source": []
  }
 ],
 "metadata": {
  "kernelspec": {
   "display_name": "Julia 1.8.0",
   "language": "julia",
   "name": "julia"
  },
  "language_info": {
   "file_extension": ".jl",
   "mimetype": "application/julia",
   "name": "julia",
   "version": "1.8.0"
  }
 },
 "nbformat": 4,
 "nbformat_minor": 5
}
